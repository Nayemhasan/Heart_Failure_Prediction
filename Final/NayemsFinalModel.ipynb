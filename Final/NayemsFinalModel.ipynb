{
  "cells": [
    {
      "cell_type": "markdown",
      "source": [
        "# Importing libraries"
      ],
      "metadata": {
        "id": "4wGPCDPGh_uq"
      },
      "id": "4wGPCDPGh_uq"
    },
    {
      "cell_type": "code",
      "execution_count": 8,
      "id": "951ecf92",
      "metadata": {
        "id": "951ecf92"
      },
      "outputs": [],
      "source": [
        "import pandas as pd\n",
        "import numpy as np\n",
        "import matplotlib.pyplot as plt\n",
        "import seaborn as sns\n",
        "import scipy as sp\n",
        "import warnings\n",
        "import os \n",
        "warnings.filterwarnings(\"ignore\")\n",
        "import datetime"
      ]
    },
    {
      "cell_type": "code",
      "execution_count": 9,
      "id": "95b3f624",
      "metadata": {
        "colab": {
          "base_uri": "https://localhost:8080/",
          "height": 206
        },
        "id": "95b3f624",
        "outputId": "b8c3aa0c-5477-45ab-cb12-924a3192f496"
      },
      "outputs": [
        {
          "output_type": "execute_result",
          "data": {
            "text/plain": [
              "    age  anaemia  creatinine_phosphokinase  diabetes  ejection_fraction  \\\n",
              "0  75.0        0                       582         0                 20   \n",
              "1  55.0        0                      7861         0                 38   \n",
              "2  65.0        0                       146         0                 20   \n",
              "3  50.0        1                       111         0                 20   \n",
              "4  65.0        1                       160         1                 20   \n",
              "\n",
              "   high_blood_pressure  platelets  serum_creatinine  serum_sodium  sex  \\\n",
              "0                    1  265000.00               1.9           130    1   \n",
              "1                    0  263358.03               1.1           136    1   \n",
              "2                    0  162000.00               1.3           129    1   \n",
              "3                    0  210000.00               1.9           137    1   \n",
              "4                    0  327000.00               2.7           116    0   \n",
              "\n",
              "   smoking  time  DEATH_EVENT  \n",
              "0        0     4            1  \n",
              "1        0     6            1  \n",
              "2        1     7            1  \n",
              "3        0     7            1  \n",
              "4        0     8            1  "
            ],
            "text/html": [
              "\n",
              "  <div id=\"df-847d5c64-72c3-48f5-9f1f-4e3e494abb7c\">\n",
              "    <div class=\"colab-df-container\">\n",
              "      <div>\n",
              "<style scoped>\n",
              "    .dataframe tbody tr th:only-of-type {\n",
              "        vertical-align: middle;\n",
              "    }\n",
              "\n",
              "    .dataframe tbody tr th {\n",
              "        vertical-align: top;\n",
              "    }\n",
              "\n",
              "    .dataframe thead th {\n",
              "        text-align: right;\n",
              "    }\n",
              "</style>\n",
              "<table border=\"1\" class=\"dataframe\">\n",
              "  <thead>\n",
              "    <tr style=\"text-align: right;\">\n",
              "      <th></th>\n",
              "      <th>age</th>\n",
              "      <th>anaemia</th>\n",
              "      <th>creatinine_phosphokinase</th>\n",
              "      <th>diabetes</th>\n",
              "      <th>ejection_fraction</th>\n",
              "      <th>high_blood_pressure</th>\n",
              "      <th>platelets</th>\n",
              "      <th>serum_creatinine</th>\n",
              "      <th>serum_sodium</th>\n",
              "      <th>sex</th>\n",
              "      <th>smoking</th>\n",
              "      <th>time</th>\n",
              "      <th>DEATH_EVENT</th>\n",
              "    </tr>\n",
              "  </thead>\n",
              "  <tbody>\n",
              "    <tr>\n",
              "      <th>0</th>\n",
              "      <td>75.0</td>\n",
              "      <td>0</td>\n",
              "      <td>582</td>\n",
              "      <td>0</td>\n",
              "      <td>20</td>\n",
              "      <td>1</td>\n",
              "      <td>265000.00</td>\n",
              "      <td>1.9</td>\n",
              "      <td>130</td>\n",
              "      <td>1</td>\n",
              "      <td>0</td>\n",
              "      <td>4</td>\n",
              "      <td>1</td>\n",
              "    </tr>\n",
              "    <tr>\n",
              "      <th>1</th>\n",
              "      <td>55.0</td>\n",
              "      <td>0</td>\n",
              "      <td>7861</td>\n",
              "      <td>0</td>\n",
              "      <td>38</td>\n",
              "      <td>0</td>\n",
              "      <td>263358.03</td>\n",
              "      <td>1.1</td>\n",
              "      <td>136</td>\n",
              "      <td>1</td>\n",
              "      <td>0</td>\n",
              "      <td>6</td>\n",
              "      <td>1</td>\n",
              "    </tr>\n",
              "    <tr>\n",
              "      <th>2</th>\n",
              "      <td>65.0</td>\n",
              "      <td>0</td>\n",
              "      <td>146</td>\n",
              "      <td>0</td>\n",
              "      <td>20</td>\n",
              "      <td>0</td>\n",
              "      <td>162000.00</td>\n",
              "      <td>1.3</td>\n",
              "      <td>129</td>\n",
              "      <td>1</td>\n",
              "      <td>1</td>\n",
              "      <td>7</td>\n",
              "      <td>1</td>\n",
              "    </tr>\n",
              "    <tr>\n",
              "      <th>3</th>\n",
              "      <td>50.0</td>\n",
              "      <td>1</td>\n",
              "      <td>111</td>\n",
              "      <td>0</td>\n",
              "      <td>20</td>\n",
              "      <td>0</td>\n",
              "      <td>210000.00</td>\n",
              "      <td>1.9</td>\n",
              "      <td>137</td>\n",
              "      <td>1</td>\n",
              "      <td>0</td>\n",
              "      <td>7</td>\n",
              "      <td>1</td>\n",
              "    </tr>\n",
              "    <tr>\n",
              "      <th>4</th>\n",
              "      <td>65.0</td>\n",
              "      <td>1</td>\n",
              "      <td>160</td>\n",
              "      <td>1</td>\n",
              "      <td>20</td>\n",
              "      <td>0</td>\n",
              "      <td>327000.00</td>\n",
              "      <td>2.7</td>\n",
              "      <td>116</td>\n",
              "      <td>0</td>\n",
              "      <td>0</td>\n",
              "      <td>8</td>\n",
              "      <td>1</td>\n",
              "    </tr>\n",
              "  </tbody>\n",
              "</table>\n",
              "</div>\n",
              "      <button class=\"colab-df-convert\" onclick=\"convertToInteractive('df-847d5c64-72c3-48f5-9f1f-4e3e494abb7c')\"\n",
              "              title=\"Convert this dataframe to an interactive table.\"\n",
              "              style=\"display:none;\">\n",
              "        \n",
              "  <svg xmlns=\"http://www.w3.org/2000/svg\" height=\"24px\"viewBox=\"0 0 24 24\"\n",
              "       width=\"24px\">\n",
              "    <path d=\"M0 0h24v24H0V0z\" fill=\"none\"/>\n",
              "    <path d=\"M18.56 5.44l.94 2.06.94-2.06 2.06-.94-2.06-.94-.94-2.06-.94 2.06-2.06.94zm-11 1L8.5 8.5l.94-2.06 2.06-.94-2.06-.94L8.5 2.5l-.94 2.06-2.06.94zm10 10l.94 2.06.94-2.06 2.06-.94-2.06-.94-.94-2.06-.94 2.06-2.06.94z\"/><path d=\"M17.41 7.96l-1.37-1.37c-.4-.4-.92-.59-1.43-.59-.52 0-1.04.2-1.43.59L10.3 9.45l-7.72 7.72c-.78.78-.78 2.05 0 2.83L4 21.41c.39.39.9.59 1.41.59.51 0 1.02-.2 1.41-.59l7.78-7.78 2.81-2.81c.8-.78.8-2.07 0-2.86zM5.41 20L4 18.59l7.72-7.72 1.47 1.35L5.41 20z\"/>\n",
              "  </svg>\n",
              "      </button>\n",
              "      \n",
              "  <style>\n",
              "    .colab-df-container {\n",
              "      display:flex;\n",
              "      flex-wrap:wrap;\n",
              "      gap: 12px;\n",
              "    }\n",
              "\n",
              "    .colab-df-convert {\n",
              "      background-color: #E8F0FE;\n",
              "      border: none;\n",
              "      border-radius: 50%;\n",
              "      cursor: pointer;\n",
              "      display: none;\n",
              "      fill: #1967D2;\n",
              "      height: 32px;\n",
              "      padding: 0 0 0 0;\n",
              "      width: 32px;\n",
              "    }\n",
              "\n",
              "    .colab-df-convert:hover {\n",
              "      background-color: #E2EBFA;\n",
              "      box-shadow: 0px 1px 2px rgba(60, 64, 67, 0.3), 0px 1px 3px 1px rgba(60, 64, 67, 0.15);\n",
              "      fill: #174EA6;\n",
              "    }\n",
              "\n",
              "    [theme=dark] .colab-df-convert {\n",
              "      background-color: #3B4455;\n",
              "      fill: #D2E3FC;\n",
              "    }\n",
              "\n",
              "    [theme=dark] .colab-df-convert:hover {\n",
              "      background-color: #434B5C;\n",
              "      box-shadow: 0px 1px 3px 1px rgba(0, 0, 0, 0.15);\n",
              "      filter: drop-shadow(0px 1px 2px rgba(0, 0, 0, 0.3));\n",
              "      fill: #FFFFFF;\n",
              "    }\n",
              "  </style>\n",
              "\n",
              "      <script>\n",
              "        const buttonEl =\n",
              "          document.querySelector('#df-847d5c64-72c3-48f5-9f1f-4e3e494abb7c button.colab-df-convert');\n",
              "        buttonEl.style.display =\n",
              "          google.colab.kernel.accessAllowed ? 'block' : 'none';\n",
              "\n",
              "        async function convertToInteractive(key) {\n",
              "          const element = document.querySelector('#df-847d5c64-72c3-48f5-9f1f-4e3e494abb7c');\n",
              "          const dataTable =\n",
              "            await google.colab.kernel.invokeFunction('convertToInteractive',\n",
              "                                                     [key], {});\n",
              "          if (!dataTable) return;\n",
              "\n",
              "          const docLinkHtml = 'Like what you see? Visit the ' +\n",
              "            '<a target=\"_blank\" href=https://colab.research.google.com/notebooks/data_table.ipynb>data table notebook</a>'\n",
              "            + ' to learn more about interactive tables.';\n",
              "          element.innerHTML = '';\n",
              "          dataTable['output_type'] = 'display_data';\n",
              "          await google.colab.output.renderOutput(dataTable, element);\n",
              "          const docLink = document.createElement('div');\n",
              "          docLink.innerHTML = docLinkHtml;\n",
              "          element.appendChild(docLink);\n",
              "        }\n",
              "      </script>\n",
              "    </div>\n",
              "  </div>\n",
              "  "
            ]
          },
          "metadata": {},
          "execution_count": 9
        }
      ],
      "source": [
        "df=pd.read_csv('heart_failure_clinical_records_dataset.csv')\n",
        "df.head()"
      ]
    },
    {
      "cell_type": "code",
      "execution_count": 10,
      "id": "5acd2bb8",
      "metadata": {
        "colab": {
          "base_uri": "https://localhost:8080/"
        },
        "id": "5acd2bb8",
        "outputId": "3d5ecbfa-4d26-4010-e474-6815143ed9e6"
      },
      "outputs": [
        {
          "output_type": "execute_result",
          "data": {
            "text/plain": [
              "age                         float64\n",
              "anaemia                       int64\n",
              "creatinine_phosphokinase      int64\n",
              "diabetes                      int64\n",
              "ejection_fraction             int64\n",
              "high_blood_pressure           int64\n",
              "platelets                   float64\n",
              "serum_creatinine            float64\n",
              "serum_sodium                  int64\n",
              "sex                           int64\n",
              "smoking                       int64\n",
              "time                          int64\n",
              "DEATH_EVENT                   int64\n",
              "dtype: object"
            ]
          },
          "metadata": {},
          "execution_count": 10
        }
      ],
      "source": [
        "df.dtypes"
      ]
    },
    {
      "cell_type": "markdown",
      "source": [
        "# Data Processing"
      ],
      "metadata": {
        "id": "io58LxFOioiv"
      },
      "id": "io58LxFOioiv"
    },
    {
      "cell_type": "markdown",
      "source": [
        "### Correlation Matrix"
      ],
      "metadata": {
        "id": "rbN3gzE5cPOF"
      },
      "id": "rbN3gzE5cPOF"
    },
    {
      "cell_type": "code",
      "source": [
        "plt.figure(figsize=(25,15))\n",
        "#Set3: Name of the color palette\n",
        "\n",
        "cmap = sns.mpl_palette('Set3', 20)\n",
        "map = sns.heatmap(df.corr(), annot=True, cmap=cmap)"
      ],
      "metadata": {
        "colab": {
          "base_uri": "https://localhost:8080/",
          "height": 987
        },
        "id": "PF7VedV0iuhB",
        "outputId": "7442a28d-05dd-4810-ab65-0a6ffccb8a13"
      },
      "id": "PF7VedV0iuhB",
      "execution_count": 7,
      "outputs": [
        {
          "output_type": "display_data",
          "data": {
            "text/plain": [
              "<Figure size 1800x1080 with 2 Axes>"
            ],
            "image/png": "[encoded data removed]"
          },
          "metadata": {
            "needs_background": "light"
          }
        }
      ]
    },
    {
      "cell_type": "code",
      "execution_count": 11,
      "metadata": {
        "id": "c04f7e7f"
      },
      "outputs": [],
      "source": [
        "# Function to creat Diagonostic plots\n",
        "\n",
        "def plotvariable (df, variable):\n",
        "    plt.figure(figsize=(16,4))\n",
        "    \n",
        "    #histogram\n",
        "    \n",
        "    plt.subplot(1,2,1)\n",
        "    plt.hist(df[variable], alpha=0.5)\n",
        "    \n",
        "    #boxplot\n",
        "    \n",
        "    plt.subplot(1,2,2)\n",
        "    sns.boxplot(df[variable])\n",
        "    \n",
        "    plt.show()\n"
      ],
      "id": "c04f7e7f"
    },
    {
      "cell_type": "code",
      "execution_count": 12,
      "metadata": {
        "colab": {
          "base_uri": "https://localhost:8080/",
          "height": 279
        },
        "id": "a466d8f7",
        "outputId": "d85a2d85-5188-496c-8162-f6ab9f28e1e2"
      },
      "outputs": [
        {
          "output_type": "display_data",
          "data": {
            "text/plain": [
              "<Figure size 1152x288 with 2 Axes>"
            ],
            "image/png": "[encoded data removed]"
          },
          "metadata": {
            "needs_background": "light"
          }
        }
      ],
      "source": [
        "plotvariable(df, \"age\")"
      ],
      "id": "a466d8f7"
    },
    {
      "cell_type": "code",
      "execution_count": 13,
      "metadata": {
        "colab": {
          "base_uri": "https://localhost:8080/",
          "height": 279
        },
        "id": "cba05691",
        "outputId": "9f578427-542b-40cb-df4a-70a5aadcd5f6"
      },
      "outputs": [
        {
          "output_type": "display_data",
          "data": {
            "text/plain": [
              "<Figure size 1152x288 with 2 Axes>"
            ],
            "image/png": "[encoded data removed]"
          },
          "metadata": {
            "needs_background": "light"
          }
        }
      ],
      "source": [
        "plotvariable(df, \"anaemia\")"
      ],
      "id": "cba05691"
    },
    {
      "cell_type": "code",
      "execution_count": 14,
      "metadata": {
        "colab": {
          "base_uri": "https://localhost:8080/",
          "height": 280
        },
        "id": "19997606",
        "outputId": "aeef3cef-ec7b-43f2-9a04-8c055a8db26e"
      },
      "outputs": [
        {
          "output_type": "display_data",
          "data": {
            "text/plain": [
              "<Figure size 1152x288 with 2 Axes>"
            ],
            "image/png": "[encoded data removed]"
          },
          "metadata": {
            "needs_background": "light"
          }
        }
      ],
      "source": [
        "plotvariable(df, \"creatinine_phosphokinase\")"
      ],
      "id": "19997606"
    },
    {
      "cell_type": "code",
      "execution_count": 15,
      "metadata": {
        "colab": {
          "base_uri": "https://localhost:8080/",
          "height": 279
        },
        "id": "c7168dbe",
        "outputId": "a1980c0a-9867-4990-f092-66b2d8b940aa"
      },
      "outputs": [
        {
          "output_type": "display_data",
          "data": {
            "text/plain": [
              "<Figure size 1152x288 with 2 Axes>"
            ],
            "image/png": "[encoded data removed]"
          },
          "metadata": {
            "needs_background": "light"
          }
        }
      ],
      "source": [
        "plotvariable(df, \"diabetes\")"
      ],
      "id": "c7168dbe"
    },
    {
      "cell_type": "code",
      "execution_count": 16,
      "metadata": {
        "colab": {
          "base_uri": "https://localhost:8080/",
          "height": 280
        },
        "id": "2083b89d",
        "outputId": "68f4fa8f-06f4-4465-d51c-fb741b06829c"
      },
      "outputs": [
        {
          "output_type": "display_data",
          "data": {
            "text/plain": [
              "<Figure size 1152x288 with 2 Axes>"
            ],
            "image/png": "[encoded data removed]"
          },
          "metadata": {
            "needs_background": "light"
          }
        }
      ],
      "source": [
        "plotvariable(df, \"ejection_fraction\")"
      ],
      "id": "2083b89d"
    },
    {
      "cell_type": "code",
      "execution_count": 17,
      "metadata": {
        "colab": {
          "base_uri": "https://localhost:8080/",
          "height": 280
        },
        "id": "208ba5ac",
        "outputId": "4402aee6-ae09-4792-931b-80d757b9e6e6"
      },
      "outputs": [
        {
          "output_type": "display_data",
          "data": {
            "text/plain": [
              "<Figure size 1152x288 with 2 Axes>"
            ],
            "image/png": "[encoded data removed]"
          },
          "metadata": {
            "needs_background": "light"
          }
        }
      ],
      "source": [
        "plotvariable(df, \"high_blood_pressure\")"
      ],
      "id": "208ba5ac"
    },
    {
      "cell_type": "code",
      "execution_count": 18,
      "metadata": {
        "colab": {
          "base_uri": "https://localhost:8080/",
          "height": 279
        },
        "id": "2ec9db86",
        "outputId": "d4f863f0-afbc-4a6d-ef78-6d43569de57e"
      },
      "outputs": [
        {
          "output_type": "display_data",
          "data": {
            "text/plain": [
              "<Figure size 1152x288 with 2 Axes>"
            ],
            "image/png": "[encoded data removed]"
          },
          "metadata": {
            "needs_background": "light"
          }
        }
      ],
      "source": [
        "plotvariable(df, \"platelets\")"
      ],
      "id": "2ec9db86"
    },
    {
      "cell_type": "code",
      "execution_count": 19,
      "metadata": {
        "colab": {
          "base_uri": "https://localhost:8080/",
          "height": 280
        },
        "id": "264173d9",
        "outputId": "78b6dbc0-4c6d-4e99-e962-5550d9cb59b4"
      },
      "outputs": [
        {
          "output_type": "display_data",
          "data": {
            "text/plain": [
              "<Figure size 1152x288 with 2 Axes>"
            ],
            "image/png": "[encoded data removed]"
          },
          "metadata": {
            "needs_background": "light"
          }
        }
      ],
      "source": [
        "plotvariable(df, \"serum_creatinine\")"
      ],
      "id": "264173d9"
    },
    {
      "cell_type": "code",
      "execution_count": 20,
      "metadata": {
        "colab": {
          "base_uri": "https://localhost:8080/",
          "height": 280
        },
        "id": "bc60be39",
        "outputId": "88414512-826e-4bd7-9500-8bb444ac11eb"
      },
      "outputs": [
        {
          "output_type": "display_data",
          "data": {
            "text/plain": [
              "<Figure size 1152x288 with 2 Axes>"
            ],
            "image/png": "[encoded data removed]"
          },
          "metadata": {
            "needs_background": "light"
          }
        }
      ],
      "source": [
        "plotvariable(df, \"serum_sodium\")"
      ],
      "id": "bc60be39"
    },
    {
      "cell_type": "code",
      "execution_count": 21,
      "metadata": {
        "colab": {
          "base_uri": "https://localhost:8080/",
          "height": 279
        },
        "id": "d7a508bf",
        "outputId": "86aca376-5782-4b7d-f4ae-35d5c4a478b5"
      },
      "outputs": [
        {
          "output_type": "display_data",
          "data": {
            "text/plain": [
              "<Figure size 1152x288 with 2 Axes>"
            ],
            "image/png": "[encoded data removed]"
          },
          "metadata": {
            "needs_background": "light"
          }
        }
      ],
      "source": [
        "plotvariable(df, \"sex\")"
      ],
      "id": "d7a508bf"
    },
    {
      "cell_type": "code",
      "execution_count": 22,
      "metadata": {
        "colab": {
          "base_uri": "https://localhost:8080/",
          "height": 279
        },
        "id": "cb47fb12",
        "outputId": "d3ebc26f-c64c-40be-e325-c303415d4c12"
      },
      "outputs": [
        {
          "output_type": "display_data",
          "data": {
            "text/plain": [
              "<Figure size 1152x288 with 2 Axes>"
            ],
            "image/png": "[encoded data removed]"
          },
          "metadata": {
            "needs_background": "light"
          }
        }
      ],
      "source": [
        "plotvariable(df, \"smoking\")"
      ],
      "id": "cb47fb12"
    },
    {
      "cell_type": "code",
      "execution_count": 23,
      "metadata": {
        "colab": {
          "base_uri": "https://localhost:8080/",
          "height": 279
        },
        "id": "I2p5RZtc5cII",
        "outputId": "e7c20b47-b318-48f1-ebd5-d63627b2604b"
      },
      "outputs": [
        {
          "output_type": "display_data",
          "data": {
            "text/plain": [
              "<Figure size 1152x288 with 2 Axes>"
            ],
            "image/png": "[encoded data removed]"
          },
          "metadata": {
            "needs_background": "light"
          }
        }
      ],
      "source": [
        "plotvariable(df, \"time\")"
      ],
      "id": "I2p5RZtc5cII"
    },
    {
      "cell_type": "markdown",
      "metadata": {
        "id": "b6ca62ca"
      },
      "source": [
        "### After searching for outliers we can see there are some outliers in 5 features. \"creatinine_phosphokinase\",\"ejection_fraction\", \"platelets\",\"serum_creatinine\",\"serum_sodium\"\n"
      ],
      "id": "b6ca62ca"
    },
    {
      "cell_type": "markdown",
      "metadata": {
        "id": "47b5eadf"
      },
      "source": [
        "In this demo we will follow the IQR approach to filter and deal with outliers. as we know that lower limit for any observation is (Q1- 1.5*IQR) and upper limit is (Q3 + 1.5*IQR)\n",
        "these terms are as follow:\n",
        "\n",
        "\n",
        "- Q1 = 25th percentile\n",
        "- Q3 = 75th percentile\n",
        "- IQR = Q3- Q1"
      ],
      "id": "47b5eadf"
    },
    {
      "cell_type": "code",
      "execution_count": 24,
      "metadata": {
        "id": "0ef5c548"
      },
      "outputs": [],
      "source": [
        "def find_bounderies(df, variables):\n",
        "    Q1 = df[variables].quantile(.25)\n",
        "    Q3 = df[variables].quantile(.75)\n",
        "    IQR = Q3-Q1\n",
        "    lower_boundry = Q1 - 1.5*IQR\n",
        "    upper_boundry = Q3 + 1.5*IQR\n",
        "    \n",
        "    return lower_boundry, upper_boundry"
      ],
      "id": "0ef5c548"
    },
    {
      "cell_type": "markdown",
      "metadata": {
        "id": "1cc3487c"
      },
      "source": [
        "### Removing Outliers for \"creatinine_phosphokinase\""
      ],
      "id": "1cc3487c"
    },
    {
      "cell_type": "code",
      "execution_count": 55,
      "metadata": {
        "colab": {
          "base_uri": "https://localhost:8080/"
        },
        "id": "0a2ea68e",
        "outputId": "ee3f5a44-622d-407a-a98f-32f04d12efd3"
      },
      "outputs": [
        {
          "output_type": "stream",
          "name": "stdout",
          "text": [
            "upper limit for creatinine_phosphokinase is :  1280.25\n",
            "lower limit for creatinine_phosphokinase is :  -581.75\n"
          ]
        }
      ],
      "source": [
        "lower_creatinine_phosphokinase, upper_creatinine_phosphokinase = find_bounderies(df , \"creatinine_phosphokinase\")\n",
        "print(\"upper limit for creatinine_phosphokinase is : \" , upper_creatinine_phosphokinase)\n",
        "print(\"lower limit for creatinine_phosphokinase is : \" , lower_creatinine_phosphokinase)"
      ],
      "id": "0a2ea68e"
    },
    {
      "cell_type": "code",
      "execution_count": 56,
      "metadata": {
        "id": "6220b76b"
      },
      "outputs": [],
      "source": [
        "outliers_creatinine_phosphokinase = np.where(df[\"creatinine_phosphokinase\"] > upper_creatinine_phosphokinase, True,\n",
        "                              np.where(df[\"creatinine_phosphokinase\"] < lower_creatinine_phosphokinase, True,  False))"
      ],
      "id": "6220b76b"
    },
    {
      "cell_type": "code",
      "execution_count": 57,
      "metadata": {
        "colab": {
          "base_uri": "https://localhost:8080/"
        },
        "id": "a19aa1fa",
        "outputId": "14804289-59a2-4e78-fbfa-c8fbec135850"
      },
      "outputs": [
        {
          "output_type": "execute_result",
          "data": {
            "text/plain": [
              "array([False,  True, False, False, False, False, False, False, False,\n",
              "       False, False, False, False, False, False, False, False, False,\n",
              "       False, False, False, False, False, False, False, False, False,\n",
              "       False, False, False, False, False, False, False, False, False,\n",
              "       False, False,  True, False, False, False, False, False, False,\n",
              "       False,  True, False, False, False, False, False,  True, False,\n",
              "       False, False, False, False, False, False,  True, False, False,\n",
              "       False, False, False, False, False, False, False, False, False,\n",
              "        True, False, False, False, False, False, False, False, False,\n",
              "       False, False, False, False, False, False, False, False, False,\n",
              "       False, False, False, False, False, False, False, False, False,\n",
              "       False, False, False, False,  True, False, False, False,  True,\n",
              "       False, False, False, False, False, False, False, False, False,\n",
              "       False, False, False, False, False, False, False, False, False,\n",
              "       False, False, False, False,  True, False, False, False,  True,\n",
              "       False, False, False, False,  True, False, False, False, False,\n",
              "       False, False, False,  True, False,  True, False, False, False,\n",
              "        True, False, False, False, False, False, False, False, False,\n",
              "       False,  True,  True, False, False, False, False, False, False,\n",
              "        True, False, False, False, False,  True, False, False, False,\n",
              "       False, False, False, False, False, False, False,  True, False,\n",
              "       False, False, False, False, False, False, False, False, False,\n",
              "       False, False,  True, False, False, False, False, False, False,\n",
              "       False,  True, False, False, False, False, False, False, False,\n",
              "       False, False, False, False, False, False, False, False, False,\n",
              "       False, False,  True, False, False, False, False, False, False,\n",
              "       False, False, False, False, False, False, False, False, False,\n",
              "       False, False, False,  True, False, False, False,  True, False,\n",
              "       False, False, False, False, False, False, False, False, False,\n",
              "       False, False, False, False, False, False, False, False, False,\n",
              "       False, False, False, False, False, False, False, False, False,\n",
              "       False,  True, False, False,  True, False, False, False, False,\n",
              "       False, False, False, False, False, False, False,  True,  True,\n",
              "        True, False])"
            ]
          },
          "metadata": {},
          "execution_count": 57
        }
      ],
      "source": [
        "outliers_creatinine_phosphokinase"
      ],
      "id": "a19aa1fa"
    },
    {
      "cell_type": "code",
      "execution_count": 58,
      "metadata": {
        "colab": {
          "base_uri": "https://localhost:8080/"
        },
        "id": "21c772cb",
        "outputId": "4bd178ae-3389-4460-f23b-cff967681907"
      },
      "outputs": [
        {
          "output_type": "execute_result",
          "data": {
            "text/plain": [
              "(299, 13)"
            ]
          },
          "metadata": {},
          "execution_count": 58
        }
      ],
      "source": [
        "df.shape"
      ],
      "id": "21c772cb"
    },
    {
      "cell_type": "code",
      "execution_count": 59,
      "metadata": {
        "colab": {
          "base_uri": "https://localhost:8080/"
        },
        "id": "dc2a722c",
        "outputId": "bf98e24d-e121-4a1e-dc84-5781029cd19c"
      },
      "outputs": [
        {
          "output_type": "execute_result",
          "data": {
            "text/plain": [
              "(270, 13)"
            ]
          },
          "metadata": {},
          "execution_count": 59
        }
      ],
      "source": [
        "df1 = df.loc[~(outliers_creatinine_phosphokinase)]\n",
        "df1.shape"
      ],
      "id": "dc2a722c"
    },
    {
      "cell_type": "code",
      "execution_count": 60,
      "metadata": {
        "colab": {
          "base_uri": "https://localhost:8080/",
          "height": 0
        },
        "id": "f79a441f",
        "outputId": "cd104e2c-f19c-4f8c-fddd-5d0e6028772d"
      },
      "outputs": [
        {
          "output_type": "display_data",
          "data": {
            "text/plain": [
              "<Figure size 1152x288 with 2 Axes>"
            ],
            "image/png": "[encoded data removed]"
          },
          "metadata": {
            "needs_background": "light"
          }
        }
      ],
      "source": [
        "plotvariable(df1, \"creatinine_phosphokinase\")"
      ],
      "id": "f79a441f"
    },
    {
      "cell_type": "markdown",
      "metadata": {
        "id": "8433b0f0"
      },
      "source": [
        "### Removing Outliers from \"ejection_fraction\"."
      ],
      "id": "8433b0f0"
    },
    {
      "cell_type": "code",
      "execution_count": 49,
      "metadata": {
        "colab": {
          "base_uri": "https://localhost:8080/"
        },
        "id": "b59d9600",
        "outputId": "49e452cf-1761-4567-f806-a8d0baa35f7b"
      },
      "outputs": [
        {
          "output_type": "stream",
          "name": "stdout",
          "text": [
            "upper limit for ejection_fraction is :  67.5\n",
            "lower limit for ejection_fraction is :  7.5\n"
          ]
        }
      ],
      "source": [
        "lower_ejection_fraction, upper_ejection_fraction = find_bounderies(df1 , \"ejection_fraction\")\n",
        "print(\"upper limit for ejection_fraction is : \" , upper_ejection_fraction)\n",
        "print(\"lower limit for ejection_fraction is : \" , lower_ejection_fraction)\n"
      ],
      "id": "b59d9600"
    },
    {
      "cell_type": "code",
      "execution_count": 50,
      "metadata": {
        "id": "10e3a9ca"
      },
      "outputs": [],
      "source": [
        "outliers_ejection_fraction = np.where(df1[\"ejection_fraction\"] > upper_ejection_fraction, True,\n",
        "                              np.where(df1[\"ejection_fraction\"] < lower_ejection_fraction, True,  False))\n"
      ],
      "id": "10e3a9ca"
    },
    {
      "cell_type": "code",
      "execution_count": 51,
      "metadata": {
        "colab": {
          "base_uri": "https://localhost:8080/"
        },
        "id": "59d5875f",
        "outputId": "2d6c12cd-f4af-46fe-eb87-f39d2820be62"
      },
      "outputs": [
        {
          "output_type": "execute_result",
          "data": {
            "text/plain": [
              "array([False, False, False, False, False, False, False, False, False,\n",
              "       False, False, False, False, False, False, False, False, False,\n",
              "       False, False, False, False, False, False, False, False, False,\n",
              "       False, False, False, False, False, False, False, False, False,\n",
              "       False, False, False, False, False, False, False, False, False,\n",
              "       False, False, False, False, False, False, False, False, False,\n",
              "       False, False, False, False, False,  True, False, False, False,\n",
              "       False, False, False, False, False, False, False, False, False,\n",
              "       False, False, False, False, False, False, False, False, False,\n",
              "       False, False, False, False, False, False, False, False, False,\n",
              "       False, False, False, False, False, False, False, False, False,\n",
              "       False, False, False, False, False, False, False, False, False,\n",
              "       False, False, False, False, False, False, False, False, False,\n",
              "       False, False, False, False, False, False, False, False, False,\n",
              "       False, False, False, False, False, False, False, False, False,\n",
              "       False, False, False, False, False, False, False, False, False,\n",
              "       False, False, False, False, False, False, False, False, False,\n",
              "       False, False, False, False, False, False, False, False, False,\n",
              "       False, False, False, False, False, False, False, False, False,\n",
              "       False, False, False, False, False, False, False, False, False,\n",
              "       False, False, False, False, False, False, False, False, False,\n",
              "       False, False, False, False, False, False, False,  True, False,\n",
              "       False, False, False, False, False, False, False, False, False,\n",
              "       False, False, False, False, False, False, False, False, False,\n",
              "       False, False, False, False, False, False, False, False, False,\n",
              "       False, False, False, False, False, False, False, False, False,\n",
              "       False, False, False, False, False, False, False, False, False,\n",
              "       False, False, False, False, False, False, False, False, False,\n",
              "       False, False, False, False, False, False, False, False, False,\n",
              "       False, False, False, False, False, False, False, False, False])"
            ]
          },
          "metadata": {},
          "execution_count": 51
        }
      ],
      "source": [
        "outliers_ejection_fraction "
      ],
      "id": "59d5875f"
    },
    {
      "cell_type": "code",
      "execution_count": 52,
      "metadata": {
        "colab": {
          "base_uri": "https://localhost:8080/"
        },
        "id": "b95727ea",
        "outputId": "f8dad4ad-6d16-4c01-924a-d4d4fa53f2de"
      },
      "outputs": [
        {
          "output_type": "execute_result",
          "data": {
            "text/plain": [
              "(270, 13)"
            ]
          },
          "metadata": {},
          "execution_count": 52
        }
      ],
      "source": [
        "df1.shape"
      ],
      "id": "b95727ea"
    },
    {
      "cell_type": "code",
      "execution_count": 53,
      "metadata": {
        "colab": {
          "base_uri": "https://localhost:8080/"
        },
        "id": "a9ae019b",
        "outputId": "b3651c82-4a0b-4e80-d81b-e665ddc2c6dc"
      },
      "outputs": [
        {
          "output_type": "execute_result",
          "data": {
            "text/plain": [
              "(268, 13)"
            ]
          },
          "metadata": {},
          "execution_count": 53
        }
      ],
      "source": [
        "df2 = df1.loc[~(outliers_ejection_fraction )]\n",
        "df2.shape"
      ],
      "id": "a9ae019b"
    },
    {
      "cell_type": "code",
      "execution_count": 54,
      "metadata": {
        "colab": {
          "base_uri": "https://localhost:8080/",
          "height": 0
        },
        "id": "bd3b0f6c",
        "outputId": "56c519b4-baaf-4a2b-fe66-d7d368ca446a"
      },
      "outputs": [
        {
          "output_type": "display_data",
          "data": {
            "text/plain": [
              "<Figure size 1152x288 with 2 Axes>"
            ],
            "image/png": "[encoded data removed]"
          },
          "metadata": {
            "needs_background": "light"
          }
        }
      ],
      "source": [
        "plotvariable(df2, \"ejection_fraction\")"
      ],
      "id": "bd3b0f6c"
    },
    {
      "cell_type": "markdown",
      "metadata": {
        "id": "0edebdc9"
      },
      "source": [
        "### Removing Outliers from \"platelets\"."
      ],
      "id": "0edebdc9"
    },
    {
      "cell_type": "code",
      "execution_count": 61,
      "metadata": {
        "colab": {
          "base_uri": "https://localhost:8080/"
        },
        "id": "7363e5bb",
        "outputId": "b6d7faec-1069-456b-f374-995a4e7f9ca0"
      },
      "outputs": [
        {
          "output_type": "stream",
          "name": "stdout",
          "text": [
            "upper limit for platelets is :  440875.0\n",
            "lower limit for platelets is :  73875.0\n"
          ]
        }
      ],
      "source": [
        "lower_platelets, upper_platelets = find_bounderies(df2 , \"platelets\")\n",
        "print(\"upper limit for platelets is : \" , upper_platelets)\n",
        "print(\"lower limit for platelets is : \" , lower_platelets)\n"
      ],
      "id": "7363e5bb"
    },
    {
      "cell_type": "code",
      "execution_count": 62,
      "metadata": {
        "id": "36e07b80"
      },
      "outputs": [],
      "source": [
        "outliers_platelets = np.where(df2[\"platelets\"] > upper_platelets, True,\n",
        "                              np.where(df2[\"platelets\"] < lower_platelets, True,  False))\n"
      ],
      "id": "36e07b80"
    },
    {
      "cell_type": "code",
      "execution_count": 63,
      "metadata": {
        "colab": {
          "base_uri": "https://localhost:8080/"
        },
        "id": "a5fd60a5",
        "outputId": "567889ca-10a1-41c3-8626-7f889bdafd51"
      },
      "outputs": [
        {
          "output_type": "execute_result",
          "data": {
            "text/plain": [
              "array([False, False, False, False, False, False,  True, False, False,\n",
              "       False, False, False, False, False,  True, False, False, False,\n",
              "       False, False, False, False, False, False, False, False, False,\n",
              "       False, False, False, False, False, False, False, False, False,\n",
              "       False, False, False, False, False, False, False, False,  True,\n",
              "       False, False, False, False, False, False,  True, False, False,\n",
              "       False, False, False, False, False, False, False, False, False,\n",
              "        True, False, False, False, False, False, False, False, False,\n",
              "       False, False, False, False, False, False, False, False, False,\n",
              "       False, False, False, False, False, False, False, False, False,\n",
              "       False, False, False, False, False, False, False,  True, False,\n",
              "       False,  True, False, False, False, False, False, False, False,\n",
              "        True, False, False, False, False, False, False, False, False,\n",
              "       False, False, False, False, False, False, False, False, False,\n",
              "       False, False, False, False, False, False, False, False, False,\n",
              "       False, False, False, False, False, False, False, False, False,\n",
              "       False, False, False,  True, False, False,  True, False, False,\n",
              "       False, False, False, False, False, False, False, False, False,\n",
              "       False, False, False, False, False, False, False, False, False,\n",
              "       False, False, False, False, False, False, False, False, False,\n",
              "       False, False, False, False, False, False, False, False, False,\n",
              "       False,  True, False, False, False, False, False, False, False,\n",
              "       False, False, False,  True, False, False, False, False,  True,\n",
              "       False, False, False, False, False, False, False, False, False,\n",
              "        True, False, False, False, False, False, False, False, False,\n",
              "       False, False, False, False, False, False, False, False, False,\n",
              "       False, False, False, False, False, False, False, False, False,\n",
              "       False, False, False, False, False, False, False, False,  True,\n",
              "       False,  True,  True, False, False, False, False,  True, False,\n",
              "       False, False, False, False, False, False, False])"
            ]
          },
          "metadata": {},
          "execution_count": 63
        }
      ],
      "source": [
        "outliers_platelets "
      ],
      "id": "a5fd60a5"
    },
    {
      "cell_type": "code",
      "execution_count": 64,
      "metadata": {
        "colab": {
          "base_uri": "https://localhost:8080/"
        },
        "id": "d6cf5dd4",
        "outputId": "21ca7bfe-09c3-46d2-f84b-8db46acded05"
      },
      "outputs": [
        {
          "output_type": "execute_result",
          "data": {
            "text/plain": [
              "(268, 13)"
            ]
          },
          "metadata": {},
          "execution_count": 64
        }
      ],
      "source": [
        "df2.shape"
      ],
      "id": "d6cf5dd4"
    },
    {
      "cell_type": "code",
      "execution_count": 65,
      "metadata": {
        "colab": {
          "base_uri": "https://localhost:8080/"
        },
        "id": "178bad47",
        "outputId": "cf9367e5-09bc-48ef-e198-a54777ec8894"
      },
      "outputs": [
        {
          "output_type": "execute_result",
          "data": {
            "text/plain": [
              "(250, 13)"
            ]
          },
          "metadata": {},
          "execution_count": 65
        }
      ],
      "source": [
        "df3 = df2.loc[~(outliers_platelets)]\n",
        "\n",
        "df3.shape"
      ],
      "id": "178bad47"
    },
    {
      "cell_type": "code",
      "execution_count": 66,
      "metadata": {
        "colab": {
          "base_uri": "https://localhost:8080/",
          "height": 0
        },
        "id": "9204c22b",
        "outputId": "650f2bd6-1ee6-4f02-bf54-c47d56bc1c08"
      },
      "outputs": [
        {
          "output_type": "display_data",
          "data": {
            "text/plain": [
              "<Figure size 1152x288 with 2 Axes>"
            ],
            "image/png": "[encoded data removed]"
          },
          "metadata": {
            "needs_background": "light"
          }
        }
      ],
      "source": [
        "plotvariable(df3, \"platelets\")"
      ],
      "id": "9204c22b"
    },
    {
      "cell_type": "markdown",
      "metadata": {
        "id": "LnaL8jyrAOBc"
      },
      "source": [
        "### Removing Outliers from \"serum_creatinine\""
      ],
      "id": "LnaL8jyrAOBc"
    },
    {
      "cell_type": "code",
      "execution_count": 67,
      "metadata": {
        "colab": {
          "base_uri": "https://localhost:8080/"
        },
        "id": "eErCBAFBAUYi",
        "outputId": "cd58feb8-f3ee-45b9-d011-eef0e59eec96"
      },
      "outputs": [
        {
          "output_type": "stream",
          "name": "stdout",
          "text": [
            "upper limit for serum_creatinine is :  2.1499999999999995\n",
            "lower limit for serum_creatinine is :  0.15000000000000024\n"
          ]
        }
      ],
      "source": [
        "lower_serum_creatinine, upper_serum_creatinine= find_bounderies(df3 , \"serum_creatinine\")\n",
        "print(\"upper limit for serum_creatinine is : \" , upper_serum_creatinine)\n",
        "print(\"lower limit for serum_creatinine is : \" , lower_serum_creatinine)\n"
      ],
      "id": "eErCBAFBAUYi"
    },
    {
      "cell_type": "code",
      "execution_count": 68,
      "metadata": {
        "id": "-JR0YAJiAei2"
      },
      "outputs": [],
      "source": [
        "outliers_serum_creatinine = np.where(df3[\"serum_creatinine\"] > upper_serum_creatinine, True,\n",
        "                              np.where(df3[\"serum_creatinine\"] < lower_serum_creatinine, True,  False))\n"
      ],
      "id": "-JR0YAJiAei2"
    },
    {
      "cell_type": "code",
      "execution_count": 69,
      "metadata": {
        "colab": {
          "base_uri": "https://localhost:8080/"
        },
        "id": "xhu59jpHAq9z",
        "outputId": "d9edc1ec-661a-4a39-e2c2-11a5dba80cce"
      },
      "outputs": [
        {
          "output_type": "execute_result",
          "data": {
            "text/plain": [
              "array([False, False, False,  True, False, False, False,  True,  True,\n",
              "       False, False, False, False, False, False, False, False, False,\n",
              "       False, False, False, False, False, False, False,  True, False,\n",
              "       False,  True, False, False, False,  True, False, False,  True,\n",
              "       False, False, False, False, False, False,  True, False, False,\n",
              "       False, False,  True,  True, False, False, False,  True, False,\n",
              "       False,  True, False, False, False, False, False, False, False,\n",
              "       False, False, False, False, False, False, False,  True, False,\n",
              "       False, False, False, False, False, False, False, False, False,\n",
              "       False, False, False, False, False, False, False, False, False,\n",
              "       False,  True, False, False, False, False, False, False, False,\n",
              "       False, False, False, False, False, False, False, False,  True,\n",
              "       False, False, False, False,  True,  True, False, False, False,\n",
              "       False, False, False, False, False, False, False, False, False,\n",
              "       False, False,  True, False, False, False, False, False, False,\n",
              "       False, False, False, False, False, False, False, False, False,\n",
              "       False, False, False, False, False, False, False, False, False,\n",
              "       False,  True, False, False, False, False, False, False, False,\n",
              "       False, False, False, False, False, False, False, False, False,\n",
              "       False,  True, False, False, False, False, False, False, False,\n",
              "       False, False, False, False, False, False, False, False, False,\n",
              "       False, False, False,  True, False, False, False, False, False,\n",
              "       False, False, False, False, False, False, False, False, False,\n",
              "       False,  True, False, False, False, False, False, False, False,\n",
              "       False, False, False, False, False, False, False, False, False,\n",
              "       False, False, False, False, False, False, False, False, False,\n",
              "       False, False, False, False,  True, False, False, False, False,\n",
              "       False, False, False, False, False, False, False])"
            ]
          },
          "metadata": {},
          "execution_count": 69
        }
      ],
      "source": [
        "outliers_serum_creatinine"
      ],
      "id": "xhu59jpHAq9z"
    },
    {
      "cell_type": "code",
      "execution_count": 70,
      "metadata": {
        "colab": {
          "base_uri": "https://localhost:8080/"
        },
        "id": "L3JWToE2Au5k",
        "outputId": "12a0f44c-140e-4d18-dd0f-b2ac421e690c"
      },
      "outputs": [
        {
          "output_type": "execute_result",
          "data": {
            "text/plain": [
              "(250, 13)"
            ]
          },
          "metadata": {},
          "execution_count": 70
        }
      ],
      "source": [
        "df3.shape"
      ],
      "id": "L3JWToE2Au5k"
    },
    {
      "cell_type": "code",
      "execution_count": 71,
      "metadata": {
        "colab": {
          "base_uri": "https://localhost:8080/"
        },
        "id": "SvTrMOdYAz43",
        "outputId": "2c6958e8-af70-4e10-8c56-278b1244e45b"
      },
      "outputs": [
        {
          "output_type": "execute_result",
          "data": {
            "text/plain": [
              "(227, 13)"
            ]
          },
          "metadata": {},
          "execution_count": 71
        }
      ],
      "source": [
        "df4 = df3.loc[~(outliers_serum_creatinine)]\n",
        "\n",
        "df4.shape"
      ],
      "id": "SvTrMOdYAz43"
    },
    {
      "cell_type": "code",
      "execution_count": 72,
      "metadata": {
        "colab": {
          "base_uri": "https://localhost:8080/",
          "height": 0
        },
        "id": "pbXG-dZZA9Go",
        "outputId": "25024ea8-6a2b-4d75-843c-5879eed900dc"
      },
      "outputs": [
        {
          "output_type": "display_data",
          "data": {
            "text/plain": [
              "<Figure size 1152x288 with 2 Axes>"
            ],
            "image/png": "[encoded data removed]"
          },
          "metadata": {
            "needs_background": "light"
          }
        }
      ],
      "source": [
        "plotvariable(df4, \"serum_creatinine\")"
      ],
      "id": "pbXG-dZZA9Go"
    },
    {
      "cell_type": "markdown",
      "metadata": {
        "id": "DbnLsxJbHDIA"
      },
      "source": [
        "### Removing Outliers from \"serum_creatinine\" AGAIN"
      ],
      "id": "DbnLsxJbHDIA"
    },
    {
      "cell_type": "code",
      "execution_count": 73,
      "metadata": {
        "colab": {
          "base_uri": "https://localhost:8080/"
        },
        "id": "9CgHICQyHGae",
        "outputId": "8ae0d368-0361-43fe-dfb2-7154c670fbcb"
      },
      "outputs": [
        {
          "output_type": "stream",
          "name": "stdout",
          "text": [
            "upper limit for serum_creatinine is :  1.9000000000000001\n",
            "lower limit for serum_creatinine is :  0.29999999999999993\n"
          ]
        }
      ],
      "source": [
        "lower_serum_creatinine, upper_serum_creatinine= find_bounderies(df4 , \"serum_creatinine\")\n",
        "print(\"upper limit for serum_creatinine is : \" , upper_serum_creatinine)\n",
        "print(\"lower limit for serum_creatinine is : \" , lower_serum_creatinine)\n"
      ],
      "id": "9CgHICQyHGae"
    },
    {
      "cell_type": "code",
      "execution_count": 74,
      "metadata": {
        "id": "18GS1ChtHoxI"
      },
      "outputs": [],
      "source": [
        "outliers_serum_creatinine = np.where(df4[\"serum_creatinine\"] > upper_serum_creatinine, True,\n",
        "                              np.where(df4[\"serum_creatinine\"] < lower_serum_creatinine, True,  False))\n"
      ],
      "id": "18GS1ChtHoxI"
    },
    {
      "cell_type": "code",
      "execution_count": 75,
      "metadata": {
        "colab": {
          "base_uri": "https://localhost:8080/"
        },
        "id": "i4iW21LUHylw",
        "outputId": "d85f6902-9947-444f-f9de-5d09ee14244c"
      },
      "outputs": [
        {
          "output_type": "execute_result",
          "data": {
            "text/plain": [
              "array([False, False, False,  True, False, False, False, False, False,\n",
              "       False, False, False, False, False, False, False, False, False,\n",
              "       False, False, False, False, False, False, False, False, False,\n",
              "       False, False, False, False, False, False, False, False, False,\n",
              "       False, False, False, False, False, False, False, False, False,\n",
              "       False, False, False, False, False, False, False, False, False,\n",
              "       False, False, False, False, False, False, False, False, False,\n",
              "       False, False, False, False, False, False, False, False, False,\n",
              "       False, False, False, False, False, False, False, False, False,\n",
              "       False, False, False, False, False, False, False, False, False,\n",
              "       False, False, False, False,  True, False, False, False, False,\n",
              "       False, False,  True, False, False, False, False, False, False,\n",
              "       False, False, False, False, False, False, False, False, False,\n",
              "       False, False, False, False, False, False, False, False, False,\n",
              "       False, False, False, False, False, False, False, False, False,\n",
              "       False, False, False, False, False, False,  True, False, False,\n",
              "       False, False, False, False, False, False, False, False, False,\n",
              "       False, False, False, False, False, False, False, False, False,\n",
              "       False, False, False, False, False, False, False, False, False,\n",
              "       False, False, False, False, False, False, False, False, False,\n",
              "       False, False, False, False, False, False, False, False, False,\n",
              "       False, False, False, False, False, False, False, False, False,\n",
              "       False, False, False, False, False, False, False, False, False,\n",
              "       False, False, False, False, False, False, False, False, False,\n",
              "       False, False, False, False, False, False, False, False, False,\n",
              "       False, False])"
            ]
          },
          "metadata": {},
          "execution_count": 75
        }
      ],
      "source": [
        "outliers_serum_creatinine"
      ],
      "id": "i4iW21LUHylw"
    },
    {
      "cell_type": "code",
      "execution_count": 76,
      "metadata": {
        "colab": {
          "base_uri": "https://localhost:8080/"
        },
        "id": "ceQgik5aH2G0",
        "outputId": "7a5697e6-c6dc-4205-e17f-1c048e7cf538"
      },
      "outputs": [
        {
          "output_type": "execute_result",
          "data": {
            "text/plain": [
              "(227, 13)"
            ]
          },
          "metadata": {},
          "execution_count": 76
        }
      ],
      "source": [
        "df4.shape"
      ],
      "id": "ceQgik5aH2G0"
    },
    {
      "cell_type": "code",
      "execution_count": 77,
      "metadata": {
        "colab": {
          "base_uri": "https://localhost:8080/"
        },
        "id": "o7pK9IeaH61M",
        "outputId": "84274ba7-e347-4f0e-a47d-3635bccdc3a9"
      },
      "outputs": [
        {
          "output_type": "execute_result",
          "data": {
            "text/plain": [
              "(223, 13)"
            ]
          },
          "metadata": {},
          "execution_count": 77
        }
      ],
      "source": [
        "df5 = df4.loc[~(outliers_serum_creatinine)]\n",
        "\n",
        "df5.shape\n"
      ],
      "id": "o7pK9IeaH61M"
    },
    {
      "cell_type": "code",
      "execution_count": 78,
      "metadata": {
        "colab": {
          "base_uri": "https://localhost:8080/",
          "height": 0
        },
        "id": "ShRMFkDdIAZk",
        "outputId": "4a5d34d2-6bce-4773-bf1f-34ad3cb164d8"
      },
      "outputs": [
        {
          "output_type": "display_data",
          "data": {
            "text/plain": [
              "<Figure size 1152x288 with 2 Axes>"
            ],
            "image/png": "[encoded data removed]"
          },
          "metadata": {
            "needs_background": "light"
          }
        }
      ],
      "source": [
        "plotvariable(df5, \"serum_creatinine\")"
      ],
      "id": "ShRMFkDdIAZk"
    },
    {
      "cell_type": "markdown",
      "metadata": {
        "id": "hj9705yAIYWY"
      },
      "source": [
        "### Removing Outliers from \"serum_sodium\""
      ],
      "id": "hj9705yAIYWY"
    },
    {
      "cell_type": "code",
      "execution_count": 79,
      "metadata": {
        "colab": {
          "base_uri": "https://localhost:8080/"
        },
        "id": "B5nyLQ6gIe8c",
        "outputId": "600163a7-10b2-41ac-c516-49e88dd4ca63"
      },
      "outputs": [
        {
          "output_type": "stream",
          "name": "stdout",
          "text": [
            "upper limit for serum_sodium is :  148.25\n",
            "lower limit for serum_sodium is :  126.25\n"
          ]
        }
      ],
      "source": [
        "lower_serum_sodium, upper_serum_sodium = find_bounderies(df5 , \"serum_sodium\")\n",
        "print(\"upper limit for serum_sodium is : \" , upper_serum_sodium)\n",
        "print(\"lower limit for serum_sodium is : \" , lower_serum_sodium)\n"
      ],
      "id": "B5nyLQ6gIe8c"
    },
    {
      "cell_type": "code",
      "execution_count": 80,
      "metadata": {
        "id": "T16erqVmIqM2"
      },
      "outputs": [],
      "source": [
        "outliers_serum_sodium= np.where(df5[\"serum_sodium\"] > upper_serum_sodium, True,\n",
        "                              np.where(df5[\"serum_sodium\"] < lower_serum_sodium, True,  False))\n"
      ],
      "id": "T16erqVmIqM2"
    },
    {
      "cell_type": "code",
      "execution_count": 81,
      "metadata": {
        "colab": {
          "base_uri": "https://localhost:8080/"
        },
        "id": "CmGS0-3jI2Eb",
        "outputId": "d6e701b5-a7f5-4876-e9a2-b938f88f52b9"
      },
      "outputs": [
        {
          "output_type": "execute_result",
          "data": {
            "text/plain": [
              "array([False, False, False, False, False, False, False, False, False,\n",
              "       False, False, False,  True, False, False, False, False, False,\n",
              "       False, False, False, False, False, False, False, False, False,\n",
              "       False, False, False, False, False, False, False, False, False,\n",
              "       False, False, False, False, False, False, False, False, False,\n",
              "       False, False, False, False, False, False, False, False, False,\n",
              "       False, False, False, False, False, False, False, False, False,\n",
              "       False, False, False, False, False, False, False, False, False,\n",
              "       False, False, False, False, False, False, False, False, False,\n",
              "       False, False,  True, False, False, False, False, False, False,\n",
              "       False, False, False, False, False, False, False, False, False,\n",
              "       False, False, False, False, False, False, False, False, False,\n",
              "       False, False, False, False, False, False, False, False, False,\n",
              "       False, False, False, False, False, False, False, False, False,\n",
              "       False, False, False, False, False, False, False, False, False,\n",
              "       False, False, False, False, False, False, False, False, False,\n",
              "       False, False,  True, False, False, False, False, False, False,\n",
              "       False, False, False, False, False, False, False, False, False,\n",
              "       False, False, False, False,  True, False, False, False, False,\n",
              "       False, False, False, False, False, False, False, False, False,\n",
              "       False, False, False, False, False, False, False, False, False,\n",
              "       False, False, False, False, False, False, False, False, False,\n",
              "       False, False, False, False, False, False, False, False, False,\n",
              "       False, False, False, False, False, False, False, False, False,\n",
              "       False, False, False, False, False, False, False])"
            ]
          },
          "metadata": {},
          "execution_count": 81
        }
      ],
      "source": [
        "outliers_serum_sodium"
      ],
      "id": "CmGS0-3jI2Eb"
    },
    {
      "cell_type": "code",
      "execution_count": 82,
      "metadata": {
        "colab": {
          "base_uri": "https://localhost:8080/"
        },
        "id": "VQTFeBdpI4us",
        "outputId": "9f4bb356-4b68-488c-cdbf-c82d174cc17a"
      },
      "outputs": [
        {
          "output_type": "execute_result",
          "data": {
            "text/plain": [
              "(223, 13)"
            ]
          },
          "metadata": {},
          "execution_count": 82
        }
      ],
      "source": [
        "df5.shape"
      ],
      "id": "VQTFeBdpI4us"
    },
    {
      "cell_type": "code",
      "execution_count": 83,
      "metadata": {
        "colab": {
          "base_uri": "https://localhost:8080/"
        },
        "id": "KEf9SajAI_ed",
        "outputId": "9486555c-56fa-4fc8-8c16-89ab4ef83426"
      },
      "outputs": [
        {
          "output_type": "execute_result",
          "data": {
            "text/plain": [
              "(219, 13)"
            ]
          },
          "metadata": {},
          "execution_count": 83
        }
      ],
      "source": [
        "df6 = df5.loc[~(outliers_serum_sodium)]\n",
        "\n",
        "df6.shape"
      ],
      "id": "KEf9SajAI_ed"
    },
    {
      "cell_type": "code",
      "execution_count": 84,
      "metadata": {
        "colab": {
          "base_uri": "https://localhost:8080/",
          "height": 0
        },
        "id": "g6L37G7ZJHTq",
        "outputId": "f6924436-22e0-47e6-af70-09281b5b1bbc"
      },
      "outputs": [
        {
          "output_type": "display_data",
          "data": {
            "text/plain": [
              "<Figure size 1152x288 with 2 Axes>"
            ],
            "image/png": "[encoded data removed]"
          },
          "metadata": {
            "needs_background": "light"
          }
        }
      ],
      "source": [
        "plotvariable(df6, \"serum_sodium\")"
      ],
      "id": "g6L37G7ZJHTq"
    },
    {
      "cell_type": "markdown",
      "metadata": {
        "id": "nFp14tq-XLlL"
      },
      "source": [
        "### Removing Outliers from \"serum_sodium\" AGAIN"
      ],
      "id": "nFp14tq-XLlL"
    },
    {
      "cell_type": "code",
      "execution_count": 85,
      "metadata": {
        "colab": {
          "base_uri": "https://localhost:8080/"
        },
        "id": "awdA3KuoXLlL",
        "outputId": "2acd36ca-5a21-4a80-f367-55637c145fe7"
      },
      "outputs": [
        {
          "output_type": "stream",
          "name": "stdout",
          "text": [
            "upper limit for serum_sodium is :  147.5\n",
            "lower limit for serum_sodium is :  127.5\n"
          ]
        }
      ],
      "source": [
        "lower_serum_sodium, upper_serum_sodium = find_bounderies(df6 , \"serum_sodium\")\n",
        "print(\"upper limit for serum_sodium is : \" , upper_serum_sodium)\n",
        "print(\"lower limit for serum_sodium is : \" , lower_serum_sodium)\n"
      ],
      "id": "awdA3KuoXLlL"
    },
    {
      "cell_type": "code",
      "execution_count": 86,
      "metadata": {
        "id": "DxpKSs5EXLlL"
      },
      "outputs": [],
      "source": [
        "outliers_serum_sodium= np.where(df6[\"serum_sodium\"] > upper_serum_sodium, True,\n",
        "                              np.where(df6[\"serum_sodium\"] < lower_serum_sodium, True,  False))\n"
      ],
      "id": "DxpKSs5EXLlL"
    },
    {
      "cell_type": "code",
      "execution_count": 87,
      "metadata": {
        "colab": {
          "base_uri": "https://localhost:8080/"
        },
        "id": "6FeuTXRzXLlL",
        "outputId": "a1bf450c-0d26-43a9-d095-ebe2ae987d72"
      },
      "outputs": [
        {
          "output_type": "execute_result",
          "data": {
            "text/plain": [
              "array([False, False, False, False, False, False, False, False, False,\n",
              "       False,  True, False, False, False, False, False, False, False,\n",
              "       False, False, False, False, False, False, False, False, False,\n",
              "       False, False, False, False, False, False, False, False, False,\n",
              "       False, False, False, False, False, False, False, False, False,\n",
              "       False, False, False, False, False, False, False, False, False,\n",
              "       False, False, False, False, False, False, False, False, False,\n",
              "       False, False, False, False, False, False, False, False, False,\n",
              "       False, False, False, False, False, False, False, False, False,\n",
              "       False, False, False, False, False, False, False, False, False,\n",
              "       False, False, False, False, False, False, False, False, False,\n",
              "       False, False, False, False, False, False, False, False, False,\n",
              "       False, False, False, False, False, False, False, False, False,\n",
              "       False, False, False, False, False, False, False, False, False,\n",
              "       False, False, False, False, False, False, False, False, False,\n",
              "       False, False, False, False, False, False, False, False, False,\n",
              "       False, False, False, False, False, False, False, False, False,\n",
              "       False, False, False, False, False, False, False, False, False,\n",
              "       False, False, False, False, False, False, False, False,  True,\n",
              "       False, False, False, False, False, False, False, False, False,\n",
              "       False, False, False, False, False, False, False, False, False,\n",
              "       False, False, False, False, False, False, False, False, False,\n",
              "       False, False, False, False, False, False, False, False, False,\n",
              "       False, False, False, False, False, False, False, False, False,\n",
              "       False, False, False])"
            ]
          },
          "metadata": {},
          "execution_count": 87
        }
      ],
      "source": [
        "outliers_serum_sodium"
      ],
      "id": "6FeuTXRzXLlL"
    },
    {
      "cell_type": "code",
      "execution_count": 88,
      "metadata": {
        "colab": {
          "base_uri": "https://localhost:8080/"
        },
        "id": "2EjjBXqRXLlL",
        "outputId": "8a395689-ec5d-44e2-ee76-d5d0b737606e"
      },
      "outputs": [
        {
          "output_type": "execute_result",
          "data": {
            "text/plain": [
              "(219, 13)"
            ]
          },
          "metadata": {},
          "execution_count": 88
        }
      ],
      "source": [
        "df6.shape"
      ],
      "id": "2EjjBXqRXLlL"
    },
    {
      "cell_type": "code",
      "execution_count": 89,
      "metadata": {
        "colab": {
          "base_uri": "https://localhost:8080/"
        },
        "id": "Wjm_a23JXLlL",
        "outputId": "5c98701f-1e89-407e-c88b-6b7845683766"
      },
      "outputs": [
        {
          "output_type": "execute_result",
          "data": {
            "text/plain": [
              "(217, 13)"
            ]
          },
          "metadata": {},
          "execution_count": 89
        }
      ],
      "source": [
        "df7 = df6.loc[~(outliers_serum_sodium)]\n",
        "\n",
        "df7.shape"
      ],
      "id": "Wjm_a23JXLlL"
    },
    {
      "cell_type": "code",
      "execution_count": 90,
      "metadata": {
        "colab": {
          "base_uri": "https://localhost:8080/",
          "height": 280
        },
        "id": "AAryfqJQXLlM",
        "outputId": "a16ba5f3-2c6e-4d56-c79d-f9994eda2d52"
      },
      "outputs": [
        {
          "output_type": "display_data",
          "data": {
            "text/plain": [
              "<Figure size 1152x288 with 2 Axes>"
            ],
            "image/png": "[encoded data removed]"
          },
          "metadata": {
            "needs_background": "light"
          }
        }
      ],
      "source": [
        "plotvariable(df7, \"serum_sodium\")"
      ],
      "id": "AAryfqJQXLlM"
    },
    {
      "cell_type": "markdown",
      "source": [
        ""
      ],
      "metadata": {
        "id": "yNYs-jf-djgu"
      },
      "id": "yNYs-jf-djgu"
    },
    {
      "cell_type": "markdown",
      "metadata": {
        "id": "SHdlDFlAc6Yi"
      },
      "source": [
        "### Feature Selection"
      ],
      "id": "SHdlDFlAc6Yi"
    },
    {
      "cell_type": "code",
      "execution_count": 91,
      "metadata": {
        "id": "UMvgzMP0c6Yi"
      },
      "outputs": [],
      "source": [
        "features = df7[['age', 'ejection_fraction', 'serum_creatinine', 'serum_sodium']]"
      ],
      "id": "UMvgzMP0c6Yi"
    },
    {
      "cell_type": "markdown",
      "metadata": {
        "id": "9a6HX4DlXLlM"
      },
      "source": [
        "### Splitting Data and Scaling the data"
      ],
      "id": "9a6HX4DlXLlM"
    },
    {
      "cell_type": "code",
      "execution_count": 92,
      "metadata": {
        "id": "D1GYapSMXLlM"
      },
      "outputs": [],
      "source": [
        "X = df7[['age', 'ejection_fraction', 'serum_sodium', 'serum_creatinine']]\n",
        "y = df7['DEATH_EVENT']"
      ],
      "id": "D1GYapSMXLlM"
    },
    {
      "cell_type": "code",
      "execution_count": 93,
      "metadata": {
        "id": "VS-CqTgsXLlM"
      },
      "outputs": [],
      "source": [
        "from sklearn.model_selection import train_test_split"
      ],
      "id": "VS-CqTgsXLlM"
    },
    {
      "cell_type": "code",
      "execution_count": 94,
      "metadata": {
        "id": "1hfuJ3lIXLlM"
      },
      "outputs": [],
      "source": [
        "X_train, X_test, y_train, y_test = train_test_split(X, y, test_size= 0.2, random_state=0)"
      ],
      "id": "1hfuJ3lIXLlM"
    },
    {
      "cell_type": "code",
      "execution_count": 95,
      "metadata": {
        "id": "RqSqu765c6Yi"
      },
      "outputs": [],
      "source": [
        "from sklearn.preprocessing import StandardScaler"
      ],
      "id": "RqSqu765c6Yi"
    },
    {
      "cell_type": "code",
      "execution_count": 96,
      "metadata": {
        "id": "lhsBUh8Cc6Yi"
      },
      "outputs": [],
      "source": [
        "scaler = StandardScaler()"
      ],
      "id": "lhsBUh8Cc6Yi"
    },
    {
      "cell_type": "code",
      "execution_count": 97,
      "metadata": {
        "id": "DFGSj3V6c6Yj"
      },
      "outputs": [],
      "source": [
        "x_train = scaler.fit_transform(X_train)\n",
        "x_test = scaler.transform(X_test)"
      ],
      "id": "DFGSj3V6c6Yj"
    },
    {
      "cell_type": "markdown",
      "source": [
        "# Data Models"
      ],
      "metadata": {
        "id": "L9NpGYK_mS2v"
      },
      "id": "L9NpGYK_mS2v"
    },
    {
      "cell_type": "markdown",
      "source": [
        "### LogisticRegression"
      ],
      "metadata": {
        "id": "5F4-D8QeOMxJ"
      },
      "id": "5F4-D8QeOMxJ"
    },
    {
      "cell_type": "code",
      "execution_count": 98,
      "id": "d523c705",
      "metadata": {
        "id": "d523c705"
      },
      "outputs": [],
      "source": [
        "from sklearn.linear_model import LogisticRegression\n",
        "reg = LogisticRegression()\n",
        "reg.fit(x_train, y_train) \n",
        "predictions = reg.predict(x_test)"
      ]
    },
    {
      "cell_type": "code",
      "execution_count": 99,
      "id": "9f2e7a93",
      "metadata": {
        "id": "9f2e7a93",
        "colab": {
          "base_uri": "https://localhost:8080/"
        },
        "outputId": "3e321d5d-a9e6-4261-d6f2-1605e164ae19"
      },
      "outputs": [
        {
          "output_type": "execute_result",
          "data": {
            "text/plain": [
              "array([0, 0, 0, 0, 1, 0, 0, 0, 0, 0, 0, 0, 0, 0, 0, 0, 0, 1, 0, 0, 0, 0,\n",
              "       0, 0, 0, 0, 1, 1, 0, 0, 0, 0, 0, 0, 0, 0, 0, 0, 0, 1, 1, 0, 1, 1])"
            ]
          },
          "metadata": {},
          "execution_count": 99
        }
      ],
      "source": [
        "predictions"
      ]
    },
    {
      "cell_type": "code",
      "execution_count": 100,
      "id": "a8a37744",
      "metadata": {
        "id": "a8a37744",
        "outputId": "b0904325-0e43-4686-f2ae-cd7f705c9211",
        "colab": {
          "base_uri": "https://localhost:8080/"
        }
      },
      "outputs": [
        {
          "output_type": "execute_result",
          "data": {
            "text/plain": [
              "(44,)"
            ]
          },
          "metadata": {},
          "execution_count": 100
        }
      ],
      "source": [
        "predictions.shape"
      ]
    },
    {
      "cell_type": "code",
      "execution_count": 102,
      "id": "3c048400",
      "metadata": {
        "id": "3c048400"
      },
      "outputs": [],
      "source": [
        "y_pred_reg=reg.predict(x_test)"
      ]
    },
    {
      "cell_type": "code",
      "execution_count": 103,
      "id": "0eeb0cf1",
      "metadata": {
        "id": "0eeb0cf1"
      },
      "outputs": [],
      "source": [
        "import seaborn as sns\n",
        "sns.set(font_scale = 1.5)\n",
        "def conf_matrix(y_true, y_preds):\n",
        "    fig, ax = plt.subplots(figsize = (5,5))\n",
        "    ax = sns.heatmap(\n",
        "        confusion_matrix(y_true,y_preds,labels=(1,0)),\n",
        "        annot=True,\n",
        "        cbar =False,\n",
        "        fmt = 'g'\n",
        "    ) \n",
        "    plt.xlabel('Predicted Label')\n",
        "    plt.ylabel('True Label')"
      ]
    },
    {
      "cell_type": "code",
      "source": [
        "from sklearn.metrics import precision_score, recall_score, f1_score, accuracy_score, confusion_matrix, r2_score"
      ],
      "metadata": {
        "id": "EMwl-5_7g1lP"
      },
      "id": "EMwl-5_7g1lP",
      "execution_count": 108,
      "outputs": []
    },
    {
      "cell_type": "code",
      "source": [
        "print(\"Confusion Matrix : \\n\\n\" , confusion_matrix(y_pred_reg,y_test,labels=(1,0)))"
      ],
      "metadata": {
        "colab": {
          "base_uri": "https://localhost:8080/"
        },
        "id": "5ZJKqtgig3gK",
        "outputId": "77e581b2-697a-46a6-a49e-987edb1cca85"
      },
      "id": "5ZJKqtgig3gK",
      "execution_count": 110,
      "outputs": [
        {
          "output_type": "stream",
          "name": "stdout",
          "text": [
            "Confusion Matrix : \n",
            "\n",
            " [[ 6  2]\n",
            " [ 7 29]]\n"
          ]
        }
      ]
    },
    {
      "cell_type": "code",
      "source": [
        "conf_matrix(y_pred_reg,y_test)"
      ],
      "metadata": {
        "colab": {
          "base_uri": "https://localhost:8080/",
          "height": 352
        },
        "id": "NJgKRmsIhA5f",
        "outputId": "6759d643-5fd8-4d8a-d1ee-25db5248e1d2"
      },
      "id": "NJgKRmsIhA5f",
      "execution_count": 111,
      "outputs": [
        {
          "output_type": "display_data",
          "data": {
            "text/plain": [
              "<Figure size 360x360 with 1 Axes>"
            ],
            "image/png": "[encoded data removed]"
          },
          "metadata": {}
        }
      ]
    },
    {
      "cell_type": "code",
      "source": [
        "print('Precision: ', precision_score(y_test, y_pred_reg))\n",
        "print('Recall: ', recall_score(y_test, y_pred_reg))\n",
        "print('f1_score: ', f1_score(y_test, y_pred_reg))\n",
        "print(\"Training Score: \", reg.score(x_train, y_train)*100)\n",
        "reg_acc= accuracy_score(y_test, y_pred_reg)*100\n",
        "print(\"Testing Score: \", reg_acc)\n"
      ],
      "metadata": {
        "colab": {
          "base_uri": "https://localhost:8080/"
        },
        "id": "II3oINf8hKCg",
        "outputId": "efe09816-d1d7-48c9-c2ee-6328f293c7d0"
      },
      "id": "II3oINf8hKCg",
      "execution_count": 113,
      "outputs": [
        {
          "output_type": "stream",
          "name": "stdout",
          "text": [
            "Precision:  0.75\n",
            "Recall:  0.46153846153846156\n",
            "f1_score:  0.5714285714285714\n",
            "Training Score:  78.03468208092485\n",
            "Testing Score:  79.54545454545455\n"
          ]
        }
      ]
    },
    {
      "cell_type": "markdown",
      "source": [
        "### DecissionTree"
      ],
      "metadata": {
        "id": "J3TnvjVHOIRQ"
      },
      "id": "J3TnvjVHOIRQ"
    },
    {
      "cell_type": "code",
      "execution_count": 115,
      "id": "3c23ae9f",
      "metadata": {
        "id": "3c23ae9f"
      },
      "outputs": [],
      "source": [
        "from sklearn.tree import DecisionTreeClassifier\n",
        "dtree = DecisionTreeClassifier(max_depth=1, random_state=1)\n",
        "dtree.fit(x_train,y_train)\n",
        "predictions = dtree.predict(x_test)"
      ]
    },
    {
      "cell_type": "code",
      "execution_count": 116,
      "id": "24df4a45",
      "metadata": {
        "id": "24df4a45",
        "colab": {
          "base_uri": "https://localhost:8080/"
        },
        "outputId": "7f851660-b07a-4708-f993-133cc12b2f23"
      },
      "outputs": [
        {
          "output_type": "execute_result",
          "data": {
            "text/plain": [
              "array([0, 1, 1, 0, 1, 0, 0, 0, 1, 0, 0, 0, 1, 0, 0, 0, 0, 0, 0, 0, 0, 1,\n",
              "       0, 0, 0, 0, 0, 0, 0, 0, 0, 0, 1, 0, 1, 0, 1, 0, 0, 1, 1, 0, 0, 0])"
            ]
          },
          "metadata": {},
          "execution_count": 116
        }
      ],
      "source": [
        "predictions"
      ]
    },
    {
      "cell_type": "code",
      "execution_count": 117,
      "id": "9c75f5f3",
      "metadata": {
        "id": "9c75f5f3",
        "outputId": "a45dbca1-8dc8-4887-fac2-0269c14e7e96",
        "colab": {
          "base_uri": "https://localhost:8080/"
        }
      },
      "outputs": [
        {
          "output_type": "execute_result",
          "data": {
            "text/plain": [
              "(44,)"
            ]
          },
          "metadata": {},
          "execution_count": 117
        }
      ],
      "source": [
        "predictions.shape"
      ]
    },
    {
      "cell_type": "code",
      "source": [
        "y_pred_dtree=dtree.predict(x_test)"
      ],
      "metadata": {
        "id": "XofUU194h74I"
      },
      "id": "XofUU194h74I",
      "execution_count": 118,
      "outputs": []
    },
    {
      "cell_type": "code",
      "source": [
        "print(\"Confusion Matrix : \\n\\n\" , confusion_matrix(y_pred_dtree,y_test,labels=(1,0)))"
      ],
      "metadata": {
        "colab": {
          "base_uri": "https://localhost:8080/"
        },
        "id": "5ne_0YrZiCo8",
        "outputId": "66539106-26cc-420e-c613-6bda956b5372"
      },
      "id": "5ne_0YrZiCo8",
      "execution_count": 120,
      "outputs": [
        {
          "output_type": "stream",
          "name": "stdout",
          "text": [
            "Confusion Matrix : \n",
            "\n",
            " [[ 6  5]\n",
            " [ 7 26]]\n"
          ]
        }
      ]
    },
    {
      "cell_type": "code",
      "source": [
        "conf_matrix(y_pred_dtree,y_test)"
      ],
      "metadata": {
        "colab": {
          "base_uri": "https://localhost:8080/",
          "height": 352
        },
        "id": "gNNCzS14iIsH",
        "outputId": "6760116a-e707-4d68-b234-4553596bcc89"
      },
      "id": "gNNCzS14iIsH",
      "execution_count": 122,
      "outputs": [
        {
          "output_type": "display_data",
          "data": {
            "text/plain": [
              "<Figure size 360x360 with 1 Axes>"
            ],
            "image/png": "[encoded data removed]"
          },
          "metadata": {}
        }
      ]
    },
    {
      "cell_type": "code",
      "source": [
        "print('Precision: ', precision_score(y_test, y_pred_dtree))\n",
        "print('Recall: ', recall_score(y_test, y_pred_dtree))\n",
        "print('f1_score: ', f1_score(y_test, y_pred_dtree))\n",
        "print(\"Training Score: \", dtree.score(x_train, y_train)*100)\n",
        "dtree_acc= accuracy_score(y_test, y_pred_dtree)*100\n",
        "print(\"Testing Score: \", dtree_acc)\n"
      ],
      "metadata": {
        "colab": {
          "base_uri": "https://localhost:8080/"
        },
        "id": "rO74zn4tiOQ5",
        "outputId": "19b97526-08ed-459c-fe5d-1642a9c5cffc"
      },
      "id": "rO74zn4tiOQ5",
      "execution_count": 124,
      "outputs": [
        {
          "output_type": "stream",
          "name": "stdout",
          "text": [
            "Precision:  0.5454545454545454\n",
            "Recall:  0.46153846153846156\n",
            "f1_score:  0.4999999999999999\n",
            "Training Score:  78.61271676300578\n",
            "Testing Score:  72.72727272727273\n"
          ]
        }
      ]
    },
    {
      "cell_type": "markdown",
      "source": [
        "### Support Vector Machine"
      ],
      "metadata": {
        "id": "HloG7dCTAcul"
      },
      "id": "HloG7dCTAcul"
    },
    {
      "cell_type": "code",
      "source": [
        "from sklearn import svm\n",
        "svm = svm.SVC()\n",
        "svm.fit(x_train, y_train)\n",
        "predictions = svm.predict(x_test)"
      ],
      "metadata": {
        "id": "G0Ek_2MWAh0e"
      },
      "id": "G0Ek_2MWAh0e",
      "execution_count": 143,
      "outputs": []
    },
    {
      "cell_type": "code",
      "source": [
        "predictions\n"
      ],
      "metadata": {
        "colab": {
          "base_uri": "https://localhost:8080/"
        },
        "id": "ru7LPVh8Az7r",
        "outputId": "d6ba53a0-34a4-42f1-ce23-2412cda20c04"
      },
      "id": "ru7LPVh8Az7r",
      "execution_count": 144,
      "outputs": [
        {
          "output_type": "execute_result",
          "data": {
            "text/plain": [
              "array([0, 0, 0, 0, 1, 0, 0, 0, 0, 0, 0, 0, 1, 0, 0, 0, 0, 0, 0, 0, 0, 0,\n",
              "       0, 0, 0, 0, 0, 1, 0, 0, 0, 0, 0, 0, 1, 0, 0, 0, 0, 1, 1, 0, 0, 0])"
            ]
          },
          "metadata": {},
          "execution_count": 144
        }
      ]
    },
    {
      "cell_type": "code",
      "source": [
        "predictions.shape"
      ],
      "metadata": {
        "colab": {
          "base_uri": "https://localhost:8080/"
        },
        "id": "hJUvicOkA2Hj",
        "outputId": "4e9fe6a8-a675-4d02-fdfb-457dc11abf18"
      },
      "id": "hJUvicOkA2Hj",
      "execution_count": 145,
      "outputs": [
        {
          "output_type": "execute_result",
          "data": {
            "text/plain": [
              "(44,)"
            ]
          },
          "metadata": {},
          "execution_count": 145
        }
      ]
    },
    {
      "cell_type": "code",
      "source": [
        "print(\"Confusion Matrix : \\n\\n\" , confusion_matrix(predictions,y_test,labels=(1,0)))"
      ],
      "metadata": {
        "colab": {
          "base_uri": "https://localhost:8080/"
        },
        "id": "O_VtlJNBBWc3",
        "outputId": "92affbd2-e329-4ec3-f42a-e86d52931a7e"
      },
      "id": "O_VtlJNBBWc3",
      "execution_count": 130,
      "outputs": [
        {
          "output_type": "stream",
          "name": "stdout",
          "text": [
            "Confusion Matrix : \n",
            "\n",
            " [[ 6  5]\n",
            " [ 7 26]]\n"
          ]
        }
      ]
    },
    {
      "cell_type": "code",
      "source": [
        "conf_matrix(predictions,y_test)"
      ],
      "metadata": {
        "colab": {
          "base_uri": "https://localhost:8080/",
          "height": 352
        },
        "id": "imaU0nBWc2Vx",
        "outputId": "ffbe197a-e0d3-4a54-aeec-274c511568e4"
      },
      "id": "imaU0nBWc2Vx",
      "execution_count": 135,
      "outputs": [
        {
          "output_type": "display_data",
          "data": {
            "text/plain": [
              "<Figure size 360x360 with 1 Axes>"
            ],
            "image/png": "[encoded data removed]"
          },
          "metadata": {}
        }
      ]
    },
    {
      "cell_type": "code",
      "source": [
        "from sklearn.metrics import classification_report"
      ],
      "metadata": {
        "id": "WnPhVQ0QkhcC"
      },
      "id": "WnPhVQ0QkhcC",
      "execution_count": 146,
      "outputs": []
    },
    {
      "cell_type": "code",
      "source": [
        "print(\"Classification Report : \\n\\n\" , classification_report(predictions,y_test),\"\\n\")"
      ],
      "metadata": {
        "id": "OJMPMGxUBYoJ",
        "outputId": "e3d5e68e-597a-4304-d622-1f47175033a6",
        "colab": {
          "base_uri": "https://localhost:8080/"
        }
      },
      "id": "OJMPMGxUBYoJ",
      "execution_count": 147,
      "outputs": [
        {
          "output_type": "stream",
          "name": "stdout",
          "text": [
            "Classification Report : \n",
            "\n",
            "               precision    recall  f1-score   support\n",
            "\n",
            "           0       0.94      0.76      0.84        38\n",
            "           1       0.31      0.67      0.42         6\n",
            "\n",
            "    accuracy                           0.75        44\n",
            "   macro avg       0.62      0.71      0.63        44\n",
            "weighted avg       0.85      0.75      0.78        44\n",
            " \n",
            "\n"
          ]
        }
      ]
    },
    {
      "cell_type": "markdown",
      "metadata": {
        "id": "ZmqcKZ19cb_P"
      },
      "source": [
        "### Random Forest"
      ],
      "id": "ZmqcKZ19cb_P"
    },
    {
      "cell_type": "code",
      "execution_count": 155,
      "metadata": {
        "id": "Qe5cR97ReRq0"
      },
      "outputs": [],
      "source": [
        "from sklearn.ensemble import RandomForestClassifier\n",
        "rfc=RandomForestClassifier(max_depth=6, random_state=10)\n",
        "rfc.fit(x_train, y_train)\n",
        "predictions = rfc.predict(x_test)"
      ],
      "id": "Qe5cR97ReRq0"
    },
    {
      "cell_type": "code",
      "execution_count": 156,
      "metadata": {
        "colab": {
          "base_uri": "https://localhost:8080/"
        },
        "id": "39Gc8KB5XLlN",
        "outputId": "63209bb5-189e-40a5-b8c4-1a036aa49c77"
      },
      "outputs": [
        {
          "output_type": "execute_result",
          "data": {
            "text/plain": [
              "array([0, 1, 0, 0, 1, 0, 0, 0, 0, 0, 0, 0, 1, 0, 0, 0, 0, 0, 0, 0, 0, 0,\n",
              "       0, 0, 0, 0, 0, 1, 0, 0, 0, 0, 1, 0, 1, 0, 1, 0, 0, 1, 1, 0, 0, 1])"
            ]
          },
          "metadata": {},
          "execution_count": 156
        }
      ],
      "source": [
        "predictions"
      ],
      "id": "39Gc8KB5XLlN"
    },
    {
      "cell_type": "code",
      "execution_count": 157,
      "metadata": {
        "colab": {
          "base_uri": "https://localhost:8080/"
        },
        "id": "U-uZ6d8uXLlN",
        "outputId": "2b09302b-9cfc-4bdd-8a9c-b25870afb20e"
      },
      "outputs": [
        {
          "output_type": "execute_result",
          "data": {
            "text/plain": [
              "(44,)"
            ]
          },
          "metadata": {},
          "execution_count": 157
        }
      ],
      "source": [
        "predictions.shape"
      ],
      "id": "U-uZ6d8uXLlN"
    },
    {
      "cell_type": "code",
      "execution_count": 158,
      "metadata": {
        "id": "RetVoZ3JXLlN"
      },
      "outputs": [],
      "source": [
        "y_pred_rfc=rfc.predict(x_test)"
      ],
      "id": "RetVoZ3JXLlN"
    },
    {
      "cell_type": "code",
      "execution_count": 159,
      "metadata": {
        "colab": {
          "base_uri": "https://localhost:8080/"
        },
        "id": "ku5OYinrff8B",
        "outputId": "bf77c8a7-a5ab-49fd-c865-1b758e5fe32d"
      },
      "outputs": [
        {
          "output_type": "stream",
          "name": "stdout",
          "text": [
            "Confusion Matrix : \n",
            "\n",
            " [[ 7  3]\n",
            " [ 6 28]]\n"
          ]
        }
      ],
      "source": [
        "print(\"Confusion Matrix : \\n\\n\" , confusion_matrix(y_pred_rfc,y_test,labels=(1,0)))"
      ],
      "id": "ku5OYinrff8B"
    },
    {
      "cell_type": "code",
      "execution_count": 160,
      "metadata": {
        "colab": {
          "base_uri": "https://localhost:8080/",
          "height": 352
        },
        "id": "mmLsH5kVfXnI",
        "outputId": "57a46279-581f-4d41-8cce-fbe39f932d41"
      },
      "outputs": [
        {
          "output_type": "display_data",
          "data": {
            "text/plain": [
              "<Figure size 360x360 with 1 Axes>"
            ],
            "image/png": "[encoded data removed]"
          },
          "metadata": {}
        }
      ],
      "source": [
        "conf_matrix(y_pred_rfc,y_test)"
      ],
      "id": "mmLsH5kVfXnI"
    },
    {
      "cell_type": "code",
      "execution_count": 162,
      "metadata": {
        "colab": {
          "base_uri": "https://localhost:8080/"
        },
        "id": "HKMz0cBie1sL",
        "outputId": "cd27e31e-2aa7-44a0-ad43-f49b72992d50"
      },
      "outputs": [
        {
          "output_type": "stream",
          "name": "stdout",
          "text": [
            "Precision:  0.7\n",
            "Recall:  0.5384615384615384\n",
            "f1_score:  0.608695652173913\n",
            "Training Score:  92.48554913294798\n",
            "Testing Score:  79.54545454545455\n"
          ]
        }
      ],
      "source": [
        "print('Precision: ', precision_score(y_test, y_pred_rfc))\n",
        "print('Recall: ', recall_score(y_test, y_pred_rfc))\n",
        "print('f1_score: ', f1_score(y_test, y_pred_rfc))\n",
        "print(\"Training Score: \", rfc.score(x_train, y_train)*100)\n",
        "rfc_acc= accuracy_score(y_test, y_pred_rfc)*100\n",
        "print(\"Testing Score: \", rfc_acc)"
      ],
      "id": "HKMz0cBie1sL"
    },
    {
      "cell_type": "markdown",
      "source": [
        "# Model Performance"
      ],
      "metadata": {
        "id": "804j-igTme8H"
      },
      "id": "804j-igTme8H"
    },
    {
      "cell_type": "code",
      "source": [
        "x = [\"LR\",\"DT\",\"SVM\",\"RF\"]\n",
        "h = [79.54, 72, 75, 79.54]\n",
        "c = [\"red\", \"green\", \"yellow\", \"blue\"]\n",
        "plt.bar(x,h,0.8,color=c)\n",
        "plt.xlabel(\"Models\")\n",
        "plt.ylabel(\"Performance\")\n",
        "plt.title(\"Model Performance\")\n",
        "plt.show()"
      ],
      "metadata": {
        "colab": {
          "base_uri": "https://localhost:8080/",
          "height": 318
        },
        "id": "IfleAomhmw3U",
        "outputId": "501a4aa8-99bd-4f52-e404-619ab6532717"
      },
      "id": "IfleAomhmw3U",
      "execution_count": 178,
      "outputs": [
        {
          "output_type": "display_data",
          "data": {
            "text/plain": [
              "<Figure size 432x288 with 1 Axes>"
            ],
            "image/png": "[encoded data removed]"
          },
          "metadata": {}
        }
      ]
    },
    {
      "cell_type": "markdown",
      "source": [
        "# Forwading"
      ],
      "metadata": {
        "id": "wkncxk6TZMVn"
      },
      "id": "wkncxk6TZMVn"
    },
    {
      "cell_type": "code",
      "execution_count": 166,
      "metadata": {
        "id": "YVJ09xOoXLlP"
      },
      "outputs": [],
      "source": [
        "import pickle"
      ],
      "id": "YVJ09xOoXLlP"
    },
    {
      "cell_type": "code",
      "execution_count": 167,
      "metadata": {
        "id": "KOQe95mwXLlP"
      },
      "outputs": [],
      "source": [
        "pickle.dump(rfc, open('model.pkl', 'wb'))"
      ],
      "id": "KOQe95mwXLlP"
    },
    {
      "cell_type": "code",
      "execution_count": 168,
      "metadata": {
        "colab": {
          "base_uri": "https://localhost:8080/"
        },
        "id": "sIqR2gFaXLlP",
        "outputId": "0186bb57-94a6-4099-ffc6-a181bfc48ce8"
      },
      "outputs": [
        {
          "output_type": "stream",
          "name": "stdout",
          "text": [
            "RandomForestClassifier(max_depth=6, random_state=10)\n"
          ]
        }
      ],
      "source": [
        "model = pickle.load(open('model.pkl', 'rb'))\n",
        "print(model)"
      ],
      "id": "sIqR2gFaXLlP"
    }
  ],
  "metadata": {
    "kernelspec": {
      "display_name": "Python 3 (ipykernel)",
      "language": "python",
      "name": "python3"
    },
    "language_info": {
      "codemirror_mode": {
        "name": "ipython",
        "version": 3
      },
      "file_extension": ".py",
      "mimetype": "text/x-python",
      "name": "python",
      "nbconvert_exporter": "python",
      "pygments_lexer": "ipython3",
      "version": "3.9.7"
    },
    "colab": {
      "name": "All_Models_Performance_Test.ipynb",
      "provenance": [],
      "collapsed_sections": [
        "1e6d0108",
        "b6ca62ca",
        "1cc3487c",
        "8433b0f0",
        "0edebdc9",
        "LnaL8jyrAOBc",
        "DbnLsxJbHDIA",
        "hj9705yAIYWY",
        "1387207c",
        "13dc0295",
        "08929043",
        "5F4-D8QeOMxJ",
        "J3TnvjVHOIRQ"
      ]
    }
  },
  "nbformat": 4,
  "nbformat_minor": 5
}